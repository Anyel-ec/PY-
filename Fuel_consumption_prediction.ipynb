{
  "cells": [
    {
      "cell_type": "code",
      "execution_count": null,
      "id": "56c90602-7f75-4334-9509-6233156641e4",
      "metadata": {
        "id": "56c90602-7f75-4334-9509-6233156641e4"
      },
      "outputs": [],
      "source": [
        "import tensorflow as tf\n",
        "import numpy as np"
      ]
    },
    {
      "cell_type": "markdown",
      "id": "e3f7be96-f9d7-4c35-a038-14a88d473a12",
      "metadata": {
        "id": "e3f7be96-f9d7-4c35-a038-14a88d473a12"
      },
      "source": [
        "# Datos de entrenamiento (velocidad en km/h y consumo de combustible en litros por cada 100 km"
      ]
    },
    {
      "cell_type": "code",
      "execution_count": null,
      "id": "b6e58e57-6572-41a7-a2be-884a1ed1712d",
      "metadata": {
        "id": "b6e58e57-6572-41a7-a2be-884a1ed1712d"
      },
      "outputs": [],
      "source": [
        "velocidad = np.array([5, 10, 15, 20, 25, 30, 35, 40, 45, 50,\n",
        "                      55, 60, 65, 70, 75, 80, 85, 90, 95, 100,\n",
        "                      105, 110, 115, 120, 125, 130, 135, 140,\n",
        "                      145, 150, 155, 160, 165, 170, 175, 180,\n",
        "                      185, 190, 195, 200, 205, 210, 215, 220,\n",
        "                      225, 230, 235, 240], dtype=float)\n",
        "consumo = np.array([15, 14, 13, 12, 11.5, 11, 10.5, 10, 9.5, 9,\n",
        "                    8.7, 8.5, 8.3, 8, 7.8, 7.6, 7.4, 7.2, 7, 6.8,\n",
        "                    6.6, 6.5, 6.4, 6.3, 6.2, 6.1, 6, 5.9, 5.8,\n",
        "                    5.7, 5.6, 5.5, 5.4, 5.3, 5.2, 5.1, 5, 4.9,\n",
        "                    4.8, 4.7, 4.6, 4.5, 4.4, 4.3, 4.2, 4.1, 4,3.9], dtype=float)\n"
      ]
    },
    {
      "cell_type": "markdown",
      "id": "f7413ebf-64d8-40d0-9483-3b6ef94e103d",
      "metadata": {
        "id": "f7413ebf-64d8-40d0-9483-3b6ef94e103d"
      },
      "source": [
        "# Crear el modelo de la red neuronal"
      ]
    },
    {
      "cell_type": "code",
      "execution_count": null,
      "id": "9d6e602b-da7d-4283-8f64-cd51971ea3be",
      "metadata": {
        "id": "9d6e602b-da7d-4283-8f64-cd51971ea3be"
      },
      "outputs": [],
      "source": [
        "capa = tf.keras.layers.Dense(units=1, input_shape=[1])\n",
        "modelo = tf.keras.Sequential([capa])"
      ]
    },
    {
      "cell_type": "markdown",
      "id": "0c4ce8ca-2b89-423e-9ac5-762ff17bd8bb",
      "metadata": {
        "id": "0c4ce8ca-2b89-423e-9ac5-762ff17bd8bb"
      },
      "source": [
        "# Compilar el modelo"
      ]
    },
    {
      "cell_type": "code",
      "execution_count": null,
      "id": "b26ef41c-7fff-4ebc-88aa-bded6e987705",
      "metadata": {
        "id": "b26ef41c-7fff-4ebc-88aa-bded6e987705"
      },
      "outputs": [],
      "source": [
        "modelo.compile(\n",
        "    optimizer=tf.keras.optimizers.Adam(0.1),\n",
        "    loss='mean_squared_error'\n",
        ")"
      ]
    },
    {
      "cell_type": "markdown",
      "id": "fb87e8d6-57e9-4875-8450-9cc4859304cc",
      "metadata": {
        "id": "fb87e8d6-57e9-4875-8450-9cc4859304cc"
      },
      "source": [
        "# Entrenar el modelo"
      ]
    },
    {
      "cell_type": "code",
      "execution_count": null,
      "id": "7246f53b-05ff-4c87-8613-a64a8a48ac5d",
      "metadata": {
        "id": "7246f53b-05ff-4c87-8613-a64a8a48ac5d",
        "colab": {
          "base_uri": "https://localhost:8080/"
        },
        "outputId": "e67b782c-2b5a-4e07-962c-db2eab01c7dc"
      },
      "outputs": [
        {
          "output_type": "stream",
          "name": "stdout",
          "text": [
            "Comenzando entrenamiento...\n",
            "Modelo entrenado\n"
          ]
        }
      ],
      "source": [
        "print(\"Comenzando entrenamiento...\")\n",
        "historial = modelo.fit(velocidad, consumo, epochs=1000, verbose=False)\n",
        "print(\"Modelo entrenado\")"
      ]
    },
    {
      "cell_type": "markdown",
      "id": "9b96e730-124e-4ce0-9132-11c2b8932630",
      "metadata": {
        "id": "9b96e730-124e-4ce0-9132-11c2b8932630"
      },
      "source": [
        "# graficar la pérdida durante el entrenamiento"
      ]
    },
    {
      "cell_type": "code",
      "execution_count": null,
      "id": "92ceb943-6efc-4939-8d6c-6e0eedc9704e",
      "metadata": {
        "colab": {
          "base_uri": "https://localhost:8080/",
          "height": 451
        },
        "id": "92ceb943-6efc-4939-8d6c-6e0eedc9704e",
        "outputId": "c5cf25fc-9132-4311-85c5-78f671668cf9"
      },
      "outputs": [
        {
          "output_type": "display_data",
          "data": {
            "text/plain": [
              "<Figure size 640x480 with 1 Axes>"
            ],
            "image/png": "[encoded data removed]"
          },
          "metadata": {}
        }
      ],
      "source": [
        "import matplotlib.pyplot as plt\n",
        "plt.xlabel('# Épocas')\n",
        "plt.ylabel(\"Magnitud de pérdida\")\n",
        "plt.plot(historial.history[\"loss\"])\n",
        "plt.show()"
      ]
    },
    {
      "cell_type": "markdown",
      "id": "78ded283-44f5-4866-b753-f449928465d1",
      "metadata": {
        "id": "78ded283-44f5-4866-b753-f449928465d1"
      },
      "source": [
        "# Realizar una predicción"
      ]
    },
    {
      "cell_type": "code",
      "execution_count": null,
      "id": "4175a315-3cab-47c2-9f2c-a2e9918547b8",
      "metadata": {
        "id": "4175a315-3cab-47c2-9f2c-a2e9918547b8",
        "colab": {
          "base_uri": "https://localhost:8080/"
        },
        "outputId": "fadfc723-4436-4836-b34e-57f228fa07a4"
      },
      "outputs": [
        {
          "output_type": "stream",
          "name": "stdout",
          "text": [
            "hagamos una predicción\n",
            "1/1 [==============================] - 0s 45ms/step\n",
            "El resultado para 22.0 km/h es 10.71 litros por cada 100 km\n",
            "El resultado para 83.0 km/h es 8.50 litros por cada 100 km\n"
          ]
        }
      ],
      "source": [
        "print(\"hagamos una predicción\")\n",
        "entradas = np.array([22, 83.0]).reshape(-1,1)\n",
        "resultados = modelo.predict(entradas)\n",
        "\n",
        "for i, resultado in enumerate(resultados):\n",
        "    print(f\"El resultado para {entradas[i][0]} km/h es {resultado[0]:.2f} litros por cada 100 km\")\n"
      ]
    },
    {
      "cell_type": "markdown",
      "id": "c7a08fbe-cd9c-4f4b-a235-aced217877aa",
      "metadata": {
        "id": "c7a08fbe-cd9c-4f4b-a235-aced217877aa"
      },
      "source": [
        "# Mostrar las variables internas del modelo"
      ]
    },
    {
      "cell_type": "code",
      "execution_count": null,
      "id": "4f39bfde-e659-4514-b44e-895c173740e8",
      "metadata": {
        "id": "4f39bfde-e659-4514-b44e-895c173740e8"
      },
      "outputs": [],
      "source": [
        "print(\"Variables internas del modelo\")\n",
        "print(capa.get_weights())"
      ]
    }
  ],
  "metadata": {
    "kernelspec": {
      "display_name": "Python 3 (ipykernel)",
      "language": "python",
      "name": "python3"
    },
    "language_info": {
      "codemirror_mode": {
        "name": "ipython",
        "version": 3
      },
      "file_extension": ".py",
      "mimetype": "text/x-python",
      "name": "python",
      "nbconvert_exporter": "python",
      "pygments_lexer": "ipython3",
      "version": "3.12.3"
    },
    "colab": {
      "provenance": []
    }
  },
  "nbformat": 4,
  "nbformat_minor": 5
}